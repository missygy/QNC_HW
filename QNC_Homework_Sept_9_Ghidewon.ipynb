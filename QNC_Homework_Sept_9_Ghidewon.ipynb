{
 "cells": [
  {
   "cell_type": "code",
   "execution_count": 40,
   "id": "b5a47ebc",
   "metadata": {},
   "outputs": [],
   "source": [
    "import scipy.stats as st\n",
    "import numpy as np"
   ]
  },
  {
   "cell_type": "code",
   "execution_count": 41,
   "id": "9fc9c4c4",
   "metadata": {},
   "outputs": [
    {
     "name": "stdout",
     "output_type": "stream",
     "text": [
      "0.9505703422053232\n",
      "The probability of being infected given a positive result is 0.9505703422053232\n"
     ]
    }
   ],
   "source": [
    "#Exercise #1: If someone gets a positive test, is it \"statistically significant\" at the p<0.05 level? \n",
    "#Why or why not?\n",
    "\n",
    "sample_size = 1000\n",
    "\n",
    "p_false_positive = 0.05\n",
    "p_false_negative = 0\n",
    "\n",
    "\n",
    "#assume 50% of population is infected \n",
    "p_infected = 0.5\n",
    "\n",
    "#generating binomial dist\n",
    "infected = st.binom.rvs(1, p_infected, size = sample_size)\n",
    "num_infected = infected.sum()\n",
    "\n",
    "positive = np.copy(infected)\n",
    "positive[infected==0] = st.binom.rvs(1, p_false_positive, size = sample_size-num_infected)\n",
    "\n",
    "p_infected_given_positive = (np.logical_and(infected==1, positive==1).sum())/positive.sum()\n",
    "\n",
    "print(p_infected_given_positive)\n",
    "print('The probability of being infected given a positive result is' + ' ' + str(p_infected_given_positive))\n"
   ]
  },
  {
   "cell_type": "code",
   "execution_count": 45,
   "id": "65c6d352",
   "metadata": {},
   "outputs": [
    {
     "name": "stdout",
     "output_type": "stream",
     "text": [
      "Infection rate is 0.0, proportion given a positive test is 0.0\n",
      "Infection rate is 0.1, proportion given a positive test is 0.6797385620915033\n",
      "Infection rate is 0.2, proportion given a positive test is 0.8409090909090909\n",
      "Infection rate is 0.30000000000000004, proportion given a positive test is 0.9206798866855525\n",
      "Infection rate is 0.4, proportion given a positive test is 0.9339853300733496\n",
      "Infection rate is 0.5, proportion given a positive test is 0.9540441176470589\n",
      "Infection rate is 0.6000000000000001, proportion given a positive test is 0.9767441860465116\n",
      "Infection rate is 0.7000000000000001, proportion given a positive test is 0.9825834542815675\n",
      "Infection rate is 0.8, proportion given a positive test is 0.986198243412798\n",
      "Infection rate is 0.9, proportion given a positive test is 0.9956284153005465\n"
     ]
    }
   ],
   "source": [
    "#Exercise #2: What is the probability that if someone gets a positive test, that person is infected?\n",
    "infected_proportions = np.arange(0, 1, 0.1)\n",
    "for rate in infected_proportions:\n",
    "    infected = st.binom.rvs(1,rate,size=sample_size)\n",
    "    num_infected = infected.sum()\n",
    "    positive = np.copy(infected)\n",
    "    positive[infected==0] = st.binom.rvs(1, p_false_positive, size = sample_size-num_infected)\n",
    "    \n",
    "    p_infected_given_positive = (np.logical_and(infected==1, positive==1).sum())/positive.sum()\n",
    "    \n",
    "    p_data_given_hypothesis = 1 - p_false_positive\n",
    "    p_hypothesis = rate\n",
    "    p_data = positive.sum()/positive.size\n",
    "    \n",
    "    p_hypothesis_given_data = (p_data_given_hypothesis * p_hypothesis) / p_data\n",
    "    \n",
    "    print('Infection rate is' +' ' + str(rate) + ', proportion given a positive test is' + ' ' + str(p_infected_given_positive))"
   ]
  },
  {
   "cell_type": "code",
   "execution_count": null,
   "id": "520b7f04",
   "metadata": {},
   "outputs": [],
   "source": []
  }
 ],
 "metadata": {
  "kernelspec": {
   "display_name": "Python 3 (ipykernel)",
   "language": "python",
   "name": "python3"
  },
  "language_info": {
   "codemirror_mode": {
    "name": "ipython",
    "version": 3
   },
   "file_extension": ".py",
   "mimetype": "text/x-python",
   "name": "python",
   "nbconvert_exporter": "python",
   "pygments_lexer": "ipython3",
   "version": "3.9.7"
  }
 },
 "nbformat": 4,
 "nbformat_minor": 5
}
