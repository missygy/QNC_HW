{
 "cells": [
  {
   "cell_type": "code",
   "execution_count": 1,
   "id": "a4586320",
   "metadata": {},
   "outputs": [],
   "source": [
    "import numpy as np\n",
    "import random as rnd\n",
    "import collections\n",
    "import matplotlib.pyplot as plt\n",
    "import time\n",
    "import scipy.stats as st\n",
    "\n",
    "from scipy.stats import bernoulli, binom, poisson, chi2\n",
    "from IPython.display import clear_output\n",
    "from operator import itemgetter\n",
    "from statsmodels.stats import proportion\n",
    "\n",
    "from numpy import matlib"
   ]
  },
  {
   "cell_type": "code",
   "execution_count": 12,
   "id": "b52362a6",
   "metadata": {},
   "outputs": [
    {
     "name": "stdout",
     "output_type": "stream",
     "text": [
      "{5: 0.024, 2: 0.289, 0: 0.104, 4: 0.098, 3: 0.212, 1: 0.262, 6: 0.01, 8: 0.001}\n"
     ]
    },
    {
     "data": {
      "image/png": "[encoded data removed]",
      "text/plain": [
       "<Figure size 432x288 with 1 Axes>"
      ]
     },
     "metadata": {
      "needs_background": "light"
     },
     "output_type": "display_data"
    }
   ],
   "source": [
    "#Exercise 1\n",
    "#Assume that there are 10 quanta available in a nerve terminal, \n",
    "#and for a given release event each is released with a probability of 0.2. \n",
    "#For one such event, what is the probability that 0, 1, 2, 3, 4, 5, 6, 7, 8, 9, or 10 quanta will be released?\n",
    "\n",
    "p = 0.2\n",
    "n = 10                      # number of \"trials\" per \"experiment\"\n",
    "num_experiments = 1000;     # number of \"experiments\"\n",
    "outcomes = binom.rvs(n,p,size=num_experiments)\n",
    "\n",
    "counts = collections.Counter(outcomes)\n",
    "normalized_counts = {k: v / total for total in (sum(counts.values()),) for k, v in counts.items()}\n",
    "\n",
    "print(str(normalized_counts))\n",
    "\n",
    "plt.subplot(212)\n",
    "plt.bar(normalized_counts.keys(), normalized_counts.values())\n",
    "plt.xlim([-1, n+1])\n",
    "plt.xlabel(f'Probability of success in {n} tries')\n",
    "plt.ylabel('Probability')\n",
    "plt.subplots_adjust(hspace=0.3)"
   ]
  },
  {
   "cell_type": "code",
   "execution_count": null,
   "id": "a5495894",
   "metadata": {},
   "outputs": [],
   "source": [
    "\n",
    "        "
   ]
  },
  {
   "cell_type": "code",
   "execution_count": null,
   "id": "f0706e65",
   "metadata": {},
   "outputs": [],
   "source": []
  }
 ],
 "metadata": {
  "kernelspec": {
   "display_name": "Python 3 (ipykernel)",
   "language": "python",
   "name": "python3"
  },
  "language_info": {
   "codemirror_mode": {
    "name": "ipython",
    "version": 3
   },
   "file_extension": ".py",
   "mimetype": "text/x-python",
   "name": "python",
   "nbconvert_exporter": "python",
   "pygments_lexer": "ipython3",
   "version": "3.9.7"
  }
 },
 "nbformat": 4,
 "nbformat_minor": 5
}
